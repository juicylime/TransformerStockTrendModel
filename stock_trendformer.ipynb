{
  "nbformat": 4,
  "nbformat_minor": 0,
  "metadata": {
    "colab": {
      "provenance": [],
      "toc_visible": true
    },
    "kernelspec": {
      "name": "python3",
      "display_name": "Python 3"
    },
    "language_info": {
      "name": "python"
    },
    "accelerator": "TPU"
  },
  "cells": [
    {
      "cell_type": "code",
      "source": [
        "!pip install tensorflow==2.12.0"
      ],
      "metadata": {
        "colab": {
          "base_uri": "https://localhost:8080/"
        },
        "id": "FvvwF8Ukax-H",
        "outputId": "b9561031-2907-460d-c15f-7c9802a1b1cc"
      },
      "execution_count": null,
      "outputs": [
        {
          "output_type": "stream",
          "name": "stdout",
          "text": [
            "Requirement already satisfied: tensorflow==2.12.0 in /usr/local/lib/python3.10/dist-packages (2.12.0)\n",
            "Requirement already satisfied: absl-py>=1.0.0 in /usr/local/lib/python3.10/dist-packages (from tensorflow==2.12.0) (1.4.0)\n",
            "Requirement already satisfied: astunparse>=1.6.0 in /usr/local/lib/python3.10/dist-packages (from tensorflow==2.12.0) (1.6.3)\n",
            "Requirement already satisfied: flatbuffers>=2.0 in /usr/local/lib/python3.10/dist-packages (from tensorflow==2.12.0) (23.5.26)\n",
            "Requirement already satisfied: gast<=0.4.0,>=0.2.1 in /usr/local/lib/python3.10/dist-packages (from tensorflow==2.12.0) (0.4.0)\n",
            "Requirement already satisfied: google-pasta>=0.1.1 in /usr/local/lib/python3.10/dist-packages (from tensorflow==2.12.0) (0.2.0)\n",
            "Requirement already satisfied: grpcio<2.0,>=1.24.3 in /usr/local/lib/python3.10/dist-packages (from tensorflow==2.12.0) (1.59.2)\n",
            "Requirement already satisfied: h5py>=2.9.0 in /usr/local/lib/python3.10/dist-packages (from tensorflow==2.12.0) (3.9.0)\n",
            "Requirement already satisfied: jax>=0.3.15 in /usr/local/lib/python3.10/dist-packages (from tensorflow==2.12.0) (0.3.25)\n",
            "Requirement already satisfied: keras<2.13,>=2.12.0 in /usr/local/lib/python3.10/dist-packages (from tensorflow==2.12.0) (2.12.0)\n",
            "Requirement already satisfied: libclang>=13.0.0 in /usr/local/lib/python3.10/dist-packages (from tensorflow==2.12.0) (16.0.6)\n",
            "Requirement already satisfied: numpy<1.24,>=1.22 in /usr/local/lib/python3.10/dist-packages (from tensorflow==2.12.0) (1.23.5)\n",
            "Requirement already satisfied: opt-einsum>=2.3.2 in /usr/local/lib/python3.10/dist-packages (from tensorflow==2.12.0) (3.3.0)\n",
            "Requirement already satisfied: packaging in /usr/local/lib/python3.10/dist-packages (from tensorflow==2.12.0) (23.2)\n",
            "Requirement already satisfied: protobuf!=4.21.0,!=4.21.1,!=4.21.2,!=4.21.3,!=4.21.4,!=4.21.5,<5.0.0dev,>=3.20.3 in /usr/local/lib/python3.10/dist-packages (from tensorflow==2.12.0) (3.20.3)\n",
            "Requirement already satisfied: setuptools in /usr/local/lib/python3.10/dist-packages (from tensorflow==2.12.0) (67.7.2)\n",
            "Requirement already satisfied: six>=1.12.0 in /usr/local/lib/python3.10/dist-packages (from tensorflow==2.12.0) (1.16.0)\n",
            "Requirement already satisfied: tensorboard<2.13,>=2.12 in /usr/local/lib/python3.10/dist-packages (from tensorflow==2.12.0) (2.12.0)\n",
            "Requirement already satisfied: tensorflow-estimator<2.13,>=2.12.0 in /usr/local/lib/python3.10/dist-packages (from tensorflow==2.12.0) (2.12.0)\n",
            "Requirement already satisfied: termcolor>=1.1.0 in /usr/local/lib/python3.10/dist-packages (from tensorflow==2.12.0) (2.3.0)\n",
            "Requirement already satisfied: typing-extensions>=3.6.6 in /usr/local/lib/python3.10/dist-packages (from tensorflow==2.12.0) (4.5.0)\n",
            "Requirement already satisfied: wrapt<1.15,>=1.11.0 in /usr/local/lib/python3.10/dist-packages (from tensorflow==2.12.0) (1.14.1)\n",
            "Requirement already satisfied: tensorflow-io-gcs-filesystem>=0.23.1 in /usr/local/lib/python3.10/dist-packages (from tensorflow==2.12.0) (0.34.0)\n",
            "Requirement already satisfied: wheel<1.0,>=0.23.0 in /usr/local/lib/python3.10/dist-packages (from astunparse>=1.6.0->tensorflow==2.12.0) (0.41.3)\n",
            "Requirement already satisfied: scipy>=1.5 in /usr/local/lib/python3.10/dist-packages (from jax>=0.3.15->tensorflow==2.12.0) (1.11.3)\n",
            "Requirement already satisfied: google-auth<3,>=1.6.3 in /usr/local/lib/python3.10/dist-packages (from tensorboard<2.13,>=2.12->tensorflow==2.12.0) (2.17.3)\n",
            "Requirement already satisfied: google-auth-oauthlib<0.5,>=0.4.1 in /usr/local/lib/python3.10/dist-packages (from tensorboard<2.13,>=2.12->tensorflow==2.12.0) (0.4.6)\n",
            "Requirement already satisfied: markdown>=2.6.8 in /usr/local/lib/python3.10/dist-packages (from tensorboard<2.13,>=2.12->tensorflow==2.12.0) (3.5.1)\n",
            "Requirement already satisfied: requests<3,>=2.21.0 in /usr/local/lib/python3.10/dist-packages (from tensorboard<2.13,>=2.12->tensorflow==2.12.0) (2.31.0)\n",
            "Requirement already satisfied: tensorboard-data-server<0.8.0,>=0.7.0 in /usr/local/lib/python3.10/dist-packages (from tensorboard<2.13,>=2.12->tensorflow==2.12.0) (0.7.2)\n",
            "Requirement already satisfied: tensorboard-plugin-wit>=1.6.0 in /usr/local/lib/python3.10/dist-packages (from tensorboard<2.13,>=2.12->tensorflow==2.12.0) (1.8.1)\n",
            "Requirement already satisfied: werkzeug>=1.0.1 in /usr/local/lib/python3.10/dist-packages (from tensorboard<2.13,>=2.12->tensorflow==2.12.0) (3.0.1)\n",
            "Requirement already satisfied: cachetools<6.0,>=2.0.0 in /usr/local/lib/python3.10/dist-packages (from google-auth<3,>=1.6.3->tensorboard<2.13,>=2.12->tensorflow==2.12.0) (5.3.2)\n",
            "Requirement already satisfied: pyasn1-modules>=0.2.1 in /usr/local/lib/python3.10/dist-packages (from google-auth<3,>=1.6.3->tensorboard<2.13,>=2.12->tensorflow==2.12.0) (0.3.0)\n",
            "Requirement already satisfied: rsa<5,>=3.1.4 in /usr/local/lib/python3.10/dist-packages (from google-auth<3,>=1.6.3->tensorboard<2.13,>=2.12->tensorflow==2.12.0) (4.9)\n",
            "Requirement already satisfied: requests-oauthlib>=0.7.0 in /usr/local/lib/python3.10/dist-packages (from google-auth-oauthlib<0.5,>=0.4.1->tensorboard<2.13,>=2.12->tensorflow==2.12.0) (1.3.1)\n",
            "Requirement already satisfied: charset-normalizer<4,>=2 in /usr/local/lib/python3.10/dist-packages (from requests<3,>=2.21.0->tensorboard<2.13,>=2.12->tensorflow==2.12.0) (3.3.2)\n",
            "Requirement already satisfied: idna<4,>=2.5 in /usr/local/lib/python3.10/dist-packages (from requests<3,>=2.21.0->tensorboard<2.13,>=2.12->tensorflow==2.12.0) (3.4)\n",
            "Requirement already satisfied: urllib3<3,>=1.21.1 in /usr/local/lib/python3.10/dist-packages (from requests<3,>=2.21.0->tensorboard<2.13,>=2.12->tensorflow==2.12.0) (2.0.7)\n",
            "Requirement already satisfied: certifi>=2017.4.17 in /usr/local/lib/python3.10/dist-packages (from requests<3,>=2.21.0->tensorboard<2.13,>=2.12->tensorflow==2.12.0) (2023.7.22)\n",
            "Requirement already satisfied: MarkupSafe>=2.1.1 in /usr/local/lib/python3.10/dist-packages (from werkzeug>=1.0.1->tensorboard<2.13,>=2.12->tensorflow==2.12.0) (2.1.3)\n",
            "Requirement already satisfied: pyasn1<0.6.0,>=0.4.6 in /usr/local/lib/python3.10/dist-packages (from pyasn1-modules>=0.2.1->google-auth<3,>=1.6.3->tensorboard<2.13,>=2.12->tensorflow==2.12.0) (0.5.0)\n",
            "Requirement already satisfied: oauthlib>=3.0.0 in /usr/local/lib/python3.10/dist-packages (from requests-oauthlib>=0.7.0->google-auth-oauthlib<0.5,>=0.4.1->tensorboard<2.13,>=2.12->tensorflow==2.12.0) (3.2.2)\n"
          ]
        }
      ]
    },
    {
      "cell_type": "code",
      "source": [
        "!gcloud auth application-default login --scopes=https://www.googleapis.com/auth/cloud-platform"
      ],
      "metadata": {
        "colab": {
          "base_uri": "https://localhost:8080/"
        },
        "id": "BtdkALXHeBbb",
        "outputId": "760c8ce0-8f9a-406d-d5fb-51139806e9c8"
      },
      "execution_count": null,
      "outputs": [
        {
          "output_type": "stream",
          "name": "stdout",
          "text": [
            "\n",
            "You are running on a Google Compute Engine virtual machine.\n",
            "The service credentials associated with this virtual machine\n",
            "will automatically be used by Application Default\n",
            "Credentials, so it is not necessary to use this command.\n",
            "\n",
            "If you decide to proceed anyway, your user credentials may be visible\n",
            "to others with access to this virtual machine. Are you sure you want\n",
            "to authenticate with your personal account?\n",
            "\n",
            "Do you want to continue (Y/n)?  y\n",
            "\n",
            "Go to the following link in your browser:\n",
            "\n",
            "    https://accounts.google.com/o/oauth2/auth?response_type=code&client_id=764086051850-6qr4p6gpi6hn506pt8ejuq83di341hur.apps.googleusercontent.com&redirect_uri=https%3A%2F%2Fsdk.cloud.google.com%2Fapplicationdefaultauthcode.html&scope=https%3A%2F%2Fwww.googleapis.com%2Fauth%2Fcloud-platform&state=2cdmFB0PLvErmtRIKAZ11O5qTyPD53&prompt=consent&access_type=offline&code_challenge=gRD2HwGTGYq9TjD1f5prrgBD8qye6fTLnQkaLz53Wv0&code_challenge_method=S256\n",
            "\n",
            "Enter authorization code: 4/0AfJohXlAR0G-uA0RFT2Hemonza059LuEw_X93rRiWOteDxDbrpcjBOvGmSwMXkwy7KJcKw\n",
            "\n",
            "Credentials saved to file: [/content/.config/application_default_credentials.json]\n",
            "\n",
            "These credentials will be used by any library that requests Application Default Credentials (ADC).\n",
            "\u001b[1;33mWARNING:\u001b[0m \n",
            "Cannot find a quota project to add to ADC. You might receive a \"quota exceeded\" or \"API not enabled\" error. Run $ gcloud auth application-default set-quota-project to add a quota project.\n"
          ]
        }
      ]
    },
    {
      "cell_type": "markdown",
      "source": [
        "# Imports"
      ],
      "metadata": {
        "id": "diVY--fAyf99"
      }
    },
    {
      "cell_type": "code",
      "source": [
        "import os\n",
        "import tensorflow as tf\n",
        "import numpy as np\n",
        "import matplotlib.pyplot as plt\n",
        "\n",
        "\n",
        "from tensorflow.keras.models import Model\n",
        "from tensorflow.keras.layers import MultiHeadAttention, LayerNormalization, Dropout,Dense, Input, Masking, GlobalAveragePooling1D, Embedding, Lambda\n",
        "from tensorflow.keras.callbacks import EarlyStopping\n",
        "from tensorflow.keras.optimizers.schedules import ExponentialDecay\n",
        "from tensorflow.keras.regularizers import l2\n",
        "from tensorflow.keras.layers import LeakyReLU\n",
        "from tensorflow.keras import backend as K\n",
        "from tensorflow.keras.losses import Huber\n"
      ],
      "metadata": {
        "id": "RLGkQnNvWUPY"
      },
      "execution_count": 1,
      "outputs": []
    },
    {
      "cell_type": "code",
      "execution_count": 2,
      "metadata": {
        "colab": {
          "base_uri": "https://localhost:8080/"
        },
        "id": "HF5l6yBaZNhw",
        "outputId": "2fb421ca-5563-45a6-a402-3d1e2669e2ec"
      },
      "outputs": [
        {
          "output_type": "stream",
          "name": "stdout",
          "text": [
            "Tensorflow version 2.12.0\n",
            "Running on TPU  ['10.57.87.66:8470']\n"
          ]
        }
      ],
      "source": [
        "import tensorflow as tf\n",
        "print(\"Tensorflow version \" + tf.__version__)\n",
        "\n",
        "try:\n",
        "  tpu = tf.distribute.cluster_resolver.TPUClusterResolver()  # TPU detection\n",
        "  print('Running on TPU ', tpu.cluster_spec().as_dict()['worker'])\n",
        "except ValueError:\n",
        "  raise BaseException('ERROR: Not connected to a TPU runtime; please see the previous cell in this notebook for instructions!')\n",
        "\n",
        "tf.config.experimental_connect_to_cluster(tpu)\n",
        "tf.tpu.experimental.initialize_tpu_system(tpu)\n",
        "tpu_strategy = tf.distribute.TPUStrategy(tpu)\n"
      ]
    },
    {
      "cell_type": "markdown",
      "source": [
        "# Parsing and Filtering Feature Set"
      ],
      "metadata": {
        "id": "KramH_e_xoYm"
      }
    },
    {
      "cell_type": "code",
      "source": [
        "full_feature_list = sorted(['Open', 'High', 'Low', 'Close', 'Volume', 'EMA_50', 'MACD_12_26_9', 'RSI_50', 'SMA_50', 'average_sentiment_score'])\n",
        "\n",
        "features_to_remove = []\n",
        "\n",
        "feature_list = [feature for feature in full_feature_list if feature not in features_to_remove]"
      ],
      "metadata": {
        "id": "UvB9mNl6M8hL"
      },
      "execution_count": 184,
      "outputs": []
    },
    {
      "cell_type": "code",
      "source": [
        "def parse_tfrecord_fn(example_proto, feature_list):\n",
        "    # Define the feature description\n",
        "    feature_description = {}\n",
        "    num_days = 20\n",
        "\n",
        "    for day in range(num_days):\n",
        "        for feature in feature_list:\n",
        "            feature_key = f\"{feature}_{day}\"\n",
        "            feature_description[feature_key] = tf.io.FixedLenFeature([], tf.float32)\n",
        "\n",
        "    feature_description['label'] = tf.io.FixedLenFeature([], tf.float32)\n",
        "\n",
        "    # Parse the input `tf.train.Example` proto\n",
        "    parsed_features = tf.io.parse_single_example(example_proto, feature_description)\n",
        "\n",
        "    # Extract and reshape features\n",
        "    features = [parsed_features[f\"{feature}_{day}\"] for day in range(num_days) for feature in feature_list]\n",
        "    features_tensor = tf.reshape(tf.stack(features), (num_days, len(feature_list)))\n",
        "\n",
        "\n",
        "    # Extract label\n",
        "    label = parsed_features['label']\n",
        "\n",
        "    return features_tensor, label\n",
        "\n",
        "\n",
        "batch_size = 128  # You can adjust this size\n"
      ],
      "metadata": {
        "id": "UiqlJ-c_bflp"
      },
      "execution_count": 185,
      "outputs": []
    },
    {
      "cell_type": "code",
      "source": [
        "def test_tfrecord_parsing(tfrecord_path, timestep_to_print=0):\n",
        "    # Load one example from the TFRecord\n",
        "    raw_dataset = tf.data.TFRecordDataset(tfrecord_path)\n",
        "    for raw_record in raw_dataset.take(1):\n",
        "        features_tensor, label = parse_tfrecord_fn(raw_record, feature_list)\n",
        "\n",
        "        # Print the specified timestep and its features\n",
        "        print(f\"Label: {label.numpy()}\")\n",
        "        print(f\"Features at timestep {timestep_to_print}:\")\n",
        "        for index, feature in enumerate(feature_list):\n",
        "            print(f\"  Feature {feature}: {features_tensor[timestep_to_print, index].numpy()}\")\n",
        "\n",
        "# Example usage\n",
        "tfrecord_path = 'gs://trendformer/Datasets/10_features/with_names/training_data.tfrecord'\n",
        "test_tfrecord_parsing(tfrecord_path, timestep_to_print=2)"
      ],
      "metadata": {
        "colab": {
          "base_uri": "https://localhost:8080/"
        },
        "id": "tq1AX0ZugayG",
        "outputId": "7e64da55-ed97-42cf-f308-e89126d33710"
      },
      "execution_count": 171,
      "outputs": [
        {
          "output_type": "stream",
          "name": "stderr",
          "text": [
            "Exception ignored in: <function Executor.__del__ at 0x7f239c13d2d0>\n",
            "Traceback (most recent call last):\n",
            "  File \"/usr/local/lib/python3.10/dist-packages/tensorflow/python/eager/executor.py\", line 46, in __del__\n",
            "    self.wait()\n",
            "  File \"/usr/local/lib/python3.10/dist-packages/tensorflow/python/eager/executor.py\", line 65, in wait\n",
            "    pywrap_tfe.TFE_ExecutorWaitForAllPendingNodes(self._handle)\n",
            "tensorflow.python.framework.errors_impl.OutOfRangeError: End of sequence\n"
          ]
        },
        {
          "output_type": "stream",
          "name": "stdout",
          "text": [
            "Label: -0.27935561537742615\n",
            "Features at timestep 2:\n",
            "  Feature EMA_50: -0.4219035804271698\n",
            "  Feature High: -0.3794245421886444\n",
            "  Feature Low: -0.37914973497390747\n",
            "  Feature MACD_12_26_9: 0.17683055996894836\n",
            "  Feature RSI_50: 1.648718237876892\n",
            "  Feature SMA_50: -0.4200937747955322\n",
            "  Feature Volume: -0.5366491079330444\n"
          ]
        }
      ]
    },
    {
      "cell_type": "code",
      "source": [
        "def print_example():\n",
        "  for features_tensor, label in train_dataset.take(1):\n",
        "      # Convert the tensor to numpy array\n",
        "      features_array = features_tensor.numpy()\n",
        "      label_value = label.numpy()\n",
        "\n",
        "      # Print the features for each day\n",
        "      for day in range(num_days):\n",
        "          print(f\"Day {day + 1} features:\")\n",
        "          for feature_index, feature_name in enumerate(feature_list):\n",
        "              # The feature index needs to account for the day offset\n",
        "              actual_feature_index = day * len(feature_list) + feature_index\n",
        "              feature_value = features_array[day, feature_index]\n",
        "              print(f\"{feature_name}: {feature_value}\")\n",
        "      print(f\"Label: {label_value}\")"
      ],
      "metadata": {
        "id": "NvA5y6jhWR6L"
      },
      "execution_count": 176,
      "outputs": []
    },
    {
      "cell_type": "markdown",
      "source": [
        "# Loading Training Examples"
      ],
      "metadata": {
        "id": "6Sx2tar6OsGo"
      }
    },
    {
      "cell_type": "code",
      "source": [
        "train_tfrecord_path = 'gs://trendformer/Datasets/10_features/with_names/training_data.tfrecord'\n",
        "val_tfrecord_path = 'gs://trendformer/Datasets/10_features/with_names/validation_data.tfrecord'\n",
        "train_dataset = tf.data.TFRecordDataset(train_tfrecord_path).map(lambda example: parse_tfrecord_fn(example, feature_list))\n",
        "val_dataset = tf.data.TFRecordDataset(val_tfrecord_path).map(lambda example: parse_tfrecord_fn(example, feature_list))"
      ],
      "metadata": {
        "id": "hk5nJc5FTULm"
      },
      "execution_count": 186,
      "outputs": []
    },
    {
      "cell_type": "code",
      "source": [
        "print_example()"
      ],
      "metadata": {
        "id": "0ZvmBPcoxc7p"
      },
      "execution_count": null,
      "outputs": []
    },
    {
      "cell_type": "code",
      "source": [
        "train_dataset = train_dataset.shuffle(buffer_size=10000).batch(batch_size).prefetch(tf.data.experimental.AUTOTUNE)\n",
        "val_dataset = val_dataset.batch(batch_size).prefetch(tf.data.experimental.AUTOTUNE)"
      ],
      "metadata": {
        "id": "a8CkodH6e6N-"
      },
      "execution_count": 188,
      "outputs": []
    },
    {
      "cell_type": "markdown",
      "source": [
        "# Model Definition"
      ],
      "metadata": {
        "id": "lWWaTyYkyvVX"
      }
    },
    {
      "cell_type": "code",
      "source": [
        "# Define the Transformer's parameters\n",
        "d_model = 512  # Embedding dimension\n",
        "\n",
        "num_heads = 8  # Number of attention heads\n",
        "dff = 2048  # Dimension of the feed-forward network\n",
        "num_layers = 6  # Number of encoder and decoder layers\n",
        "dropout_rate = 0.3  # Dropout rate\n",
        "\n",
        "# Constant learning rate\n",
        "constant_learning_rate = 1e-6\n",
        "\n",
        "# [32, 20, 10]\n",
        "seq_length = 20  # Length of your input sequences\n",
        "feature_size = len(feature_list)  # Number of features in your dataset\n",
        "\n",
        "with tpu_strategy.scope():\n",
        "  # Define custom Directional Accuracy metric for Keras\n",
        "  def directional_accuracy(y_true, y_pred):\n",
        "      # Assuming the shape of y_true and y_pred is (batch_size, 1)\n",
        "      sign_true = K.sign(y_true[1:] - y_true[:-1])\n",
        "      sign_pred = K.sign(y_pred[1:] - y_pred[:-1])\n",
        "      return K.mean(K.equal(sign_true, sign_pred), axis=-1)\n",
        "\n",
        "  # Define custom R2 score metric for Keras\n",
        "  def r2_score(y_true, y_pred):\n",
        "      SS_res =  K.sum(K.square(y_true - y_pred))\n",
        "      SS_tot = K.sum(K.square(y_true - K.mean(y_true)))\n",
        "      return (1 - SS_res/(SS_tot + K.epsilon()))\n",
        "\n",
        "  def positional_encoding(seq_length, num_features):\n",
        "      \"\"\"\n",
        "      Create positional encodings for the input.\n",
        "\n",
        "      Parameters:\n",
        "      seq_length (int): The length of the sequence.\n",
        "      num_features (int): The number of features being encoded.\n",
        "\n",
        "      Returns:\n",
        "      np.ndarray: A seq_length x num_features array of positional encodings.\n",
        "      \"\"\"\n",
        "\n",
        "      # Initialize the positional encoding matrix\n",
        "      position = np.arange(seq_length)[:, np.newaxis]\n",
        "      div_term = np.exp(np.arange(0, num_features, 2) * -(np.log(10000.0) / num_features))\n",
        "\n",
        "      # Compute the positional encodings\n",
        "      pe = np.zeros((seq_length, num_features))\n",
        "      pe[:, 0::2] = np.sin(position * div_term)\n",
        "      pe[:, 1::2] = np.cos(position * div_term)\n",
        "\n",
        "      return pe\n",
        "\n",
        "  def transformer_encoder_layer(d_model, num_heads, dff, dropout_rate, name):\n",
        "      inputs = Input(shape=(None, d_model))\n",
        "      attention = MultiHeadAttention(num_heads=num_heads, key_dim=d_model)(inputs, inputs)\n",
        "      attention = Dropout(dropout_rate)(attention)\n",
        "      attention = LayerNormalization(epsilon=1e-6)(inputs + attention)\n",
        "\n",
        "      outputs = Dense(dff, activation='relu')(attention)\n",
        "      outputs = Dense(d_model)(outputs)\n",
        "      outputs = Dropout(dropout_rate)(outputs)\n",
        "      outputs = LayerNormalization(epsilon=1e-6)(attention + outputs)\n",
        "\n",
        "      return Model(inputs=inputs, outputs=outputs, name=name)\n",
        "\n",
        "  def transformer_decoder_layer(d_model, num_heads, dff, dropout_rate, name):\n",
        "      inputs = Input(shape=(None, d_model))\n",
        "      enc_outputs = Input(shape=(None, d_model))\n",
        "\n",
        "      # Attention layer 1\n",
        "      attention1 = MultiHeadAttention(num_heads=num_heads, key_dim=d_model)(inputs, inputs)\n",
        "      attention1 = Dropout(dropout_rate)(attention1)\n",
        "      attention1 = LayerNormalization(epsilon=1e-6)(attention1 + inputs)\n",
        "\n",
        "      # Attention layer 2\n",
        "      attention2 = MultiHeadAttention(num_heads=num_heads, key_dim=d_model)(attention1, enc_outputs)\n",
        "      attention2 = Dropout(dropout_rate)(attention2)\n",
        "      attention2 = LayerNormalization(epsilon=1e-6)(attention2 + attention1)\n",
        "\n",
        "      # Feed-forward layer\n",
        "      outputs = Dense(dff, activation='relu')(attention2)\n",
        "      outputs = Dense(d_model)(outputs)\n",
        "      outputs = Dropout(dropout_rate)(outputs)\n",
        "      outputs = LayerNormalization(epsilon=1e-6)(outputs + attention2)\n",
        "\n",
        "      return Model(inputs=[inputs, enc_outputs], outputs=outputs, name=name)\n",
        "\n",
        "  def transformer_model(seq_length, feature_size, d_model, num_heads, dff, num_layers, dropout_rate):\n",
        "      inputs = Input(shape=(seq_length, feature_size))\n",
        "\n",
        "      # Extracting the open prices and applying positional encoding\n",
        "      open_prices = inputs[:, :, 5:6]  # Assuming 0-based indexing, the 11th feature is at index 10\n",
        "      open_prices_pos_encoding = positional_encoding(seq_length, d_model)\n",
        "      open_prices += open_prices_pos_encoding\n",
        "\n",
        "      feature_embeddings = Dense(d_model)(inputs)\n",
        "      pos_encoding = positional_encoding(seq_length, d_model)\n",
        "      feature_embeddings += pos_encoding\n",
        "\n",
        "      x = feature_embeddings\n",
        "      for i in range(num_layers):\n",
        "          x = transformer_encoder_layer(d_model, num_heads, dff, dropout_rate, f\"encoder_layer_{i+1}\")(x)\n",
        "\n",
        "      encoder_output = x\n",
        "\n",
        "      # Preparing the decoder inputs by expanding the dimensions of the open prices to match the encoder output\n",
        "      decoder_output = open_prices\n",
        "      # Passing the combined inputs through the decoder layers\n",
        "      for i in range(num_layers):\n",
        "        decoder_output = transformer_decoder_layer(d_model, num_heads, dff, dropout_rate, f\"decoder_layer_{i+1}\")([decoder_output, encoder_output])\n",
        "\n",
        "      decoder_output = Lambda(lambda x: x[:, -1, :])(decoder_output)\n",
        "\n",
        "      outputs = Dense(1, activation='linear')(decoder_output)\n",
        "      model = Model(inputs=inputs, outputs=outputs)\n",
        "      model.compile(optimizer=tf.keras.optimizers.Adam(learning_rate=constant_learning_rate),\n",
        "                    loss=Huber(delta=1.0),\n",
        "                    metrics=[directional_accuracy, tf.keras.metrics.MeanSquaredError(name=\"MSE\")])\n",
        "      return model\n",
        "\n",
        "  # Create the model\n",
        "  model = transformer_model(seq_length, feature_size, d_model, num_heads,\n",
        "                                  dff, num_layers, dropout_rate)\n",
        "\n",
        "  # Print the model summary to verify the unique naming\n",
        "  model.summary()"
      ],
      "metadata": {
        "colab": {
          "base_uri": "https://localhost:8080/",
          "height": 581
        },
        "id": "FMnx_dph768d",
        "outputId": "ab16cbe1-78e8-4928-efe9-fa41c0d3091f"
      },
      "execution_count": 193,
      "outputs": [
        {
          "output_type": "error",
          "ename": "ResourceExhaustedError",
          "evalue": "ignored",
          "traceback": [
            "\u001b[0;31m---------------------------------------------------------------------------\u001b[0m",
            "\u001b[0;31mResourceExhaustedError\u001b[0m                    Traceback (most recent call last)",
            "\u001b[0;32m<ipython-input-193-673cd55331c7>\u001b[0m in \u001b[0;36m<cell line: 16>\u001b[0;34m()\u001b[0m\n\u001b[1;32m    120\u001b[0m \u001b[0;34m\u001b[0m\u001b[0m\n\u001b[1;32m    121\u001b[0m   \u001b[0;31m# Create the model\u001b[0m\u001b[0;34m\u001b[0m\u001b[0;34m\u001b[0m\u001b[0m\n\u001b[0;32m--> 122\u001b[0;31m   model = transformer_model(seq_length, feature_size, d_model, num_heads,\n\u001b[0m\u001b[1;32m    123\u001b[0m                                   dff, num_layers, dropout_rate)\n\u001b[1;32m    124\u001b[0m \u001b[0;34m\u001b[0m\u001b[0m\n",
            "\u001b[0;32m<ipython-input-193-673cd55331c7>\u001b[0m in \u001b[0;36mtransformer_model\u001b[0;34m(seq_length, feature_size, d_model, num_heads, dff, num_layers, dropout_rate)\u001b[0m\n\u001b[1;32m    100\u001b[0m       \u001b[0mx\u001b[0m \u001b[0;34m=\u001b[0m \u001b[0mfeature_embeddings\u001b[0m\u001b[0;34m\u001b[0m\u001b[0;34m\u001b[0m\u001b[0m\n\u001b[1;32m    101\u001b[0m       \u001b[0;32mfor\u001b[0m \u001b[0mi\u001b[0m \u001b[0;32min\u001b[0m \u001b[0mrange\u001b[0m\u001b[0;34m(\u001b[0m\u001b[0mnum_layers\u001b[0m\u001b[0;34m)\u001b[0m\u001b[0;34m:\u001b[0m\u001b[0;34m\u001b[0m\u001b[0;34m\u001b[0m\u001b[0m\n\u001b[0;32m--> 102\u001b[0;31m           \u001b[0mx\u001b[0m \u001b[0;34m=\u001b[0m \u001b[0mtransformer_encoder_layer\u001b[0m\u001b[0;34m(\u001b[0m\u001b[0md_model\u001b[0m\u001b[0;34m,\u001b[0m \u001b[0mnum_heads\u001b[0m\u001b[0;34m,\u001b[0m \u001b[0mdff\u001b[0m\u001b[0;34m,\u001b[0m \u001b[0mdropout_rate\u001b[0m\u001b[0;34m,\u001b[0m \u001b[0;34mf\"encoder_layer_{i+1}\"\u001b[0m\u001b[0;34m)\u001b[0m\u001b[0;34m(\u001b[0m\u001b[0mx\u001b[0m\u001b[0;34m)\u001b[0m\u001b[0;34m\u001b[0m\u001b[0;34m\u001b[0m\u001b[0m\n\u001b[0m\u001b[1;32m    103\u001b[0m \u001b[0;34m\u001b[0m\u001b[0m\n\u001b[1;32m    104\u001b[0m       \u001b[0mencoder_output\u001b[0m \u001b[0;34m=\u001b[0m \u001b[0mx\u001b[0m\u001b[0;34m\u001b[0m\u001b[0;34m\u001b[0m\u001b[0m\n",
            "\u001b[0;32m<ipython-input-193-673cd55331c7>\u001b[0m in \u001b[0;36mtransformer_encoder_layer\u001b[0;34m(d_model, num_heads, dff, dropout_rate, name)\u001b[0m\n\u001b[1;32m     53\u001b[0m   \u001b[0;32mdef\u001b[0m \u001b[0mtransformer_encoder_layer\u001b[0m\u001b[0;34m(\u001b[0m\u001b[0md_model\u001b[0m\u001b[0;34m,\u001b[0m \u001b[0mnum_heads\u001b[0m\u001b[0;34m,\u001b[0m \u001b[0mdff\u001b[0m\u001b[0;34m,\u001b[0m \u001b[0mdropout_rate\u001b[0m\u001b[0;34m,\u001b[0m \u001b[0mname\u001b[0m\u001b[0;34m)\u001b[0m\u001b[0;34m:\u001b[0m\u001b[0;34m\u001b[0m\u001b[0;34m\u001b[0m\u001b[0m\n\u001b[1;32m     54\u001b[0m       \u001b[0minputs\u001b[0m \u001b[0;34m=\u001b[0m \u001b[0mInput\u001b[0m\u001b[0;34m(\u001b[0m\u001b[0mshape\u001b[0m\u001b[0;34m=\u001b[0m\u001b[0;34m(\u001b[0m\u001b[0;32mNone\u001b[0m\u001b[0;34m,\u001b[0m \u001b[0md_model\u001b[0m\u001b[0;34m)\u001b[0m\u001b[0;34m)\u001b[0m\u001b[0;34m\u001b[0m\u001b[0;34m\u001b[0m\u001b[0m\n\u001b[0;32m---> 55\u001b[0;31m       \u001b[0mattention\u001b[0m \u001b[0;34m=\u001b[0m \u001b[0mMultiHeadAttention\u001b[0m\u001b[0;34m(\u001b[0m\u001b[0mnum_heads\u001b[0m\u001b[0;34m=\u001b[0m\u001b[0mnum_heads\u001b[0m\u001b[0;34m,\u001b[0m \u001b[0mkey_dim\u001b[0m\u001b[0;34m=\u001b[0m\u001b[0md_model\u001b[0m\u001b[0;34m)\u001b[0m\u001b[0;34m(\u001b[0m\u001b[0minputs\u001b[0m\u001b[0;34m,\u001b[0m \u001b[0minputs\u001b[0m\u001b[0;34m)\u001b[0m\u001b[0;34m\u001b[0m\u001b[0;34m\u001b[0m\u001b[0m\n\u001b[0m\u001b[1;32m     56\u001b[0m       \u001b[0mattention\u001b[0m \u001b[0;34m=\u001b[0m \u001b[0mDropout\u001b[0m\u001b[0;34m(\u001b[0m\u001b[0mdropout_rate\u001b[0m\u001b[0;34m)\u001b[0m\u001b[0;34m(\u001b[0m\u001b[0mattention\u001b[0m\u001b[0;34m)\u001b[0m\u001b[0;34m\u001b[0m\u001b[0;34m\u001b[0m\u001b[0m\n\u001b[1;32m     57\u001b[0m       \u001b[0mattention\u001b[0m \u001b[0;34m=\u001b[0m \u001b[0mLayerNormalization\u001b[0m\u001b[0;34m(\u001b[0m\u001b[0mepsilon\u001b[0m\u001b[0;34m=\u001b[0m\u001b[0;36m1e-6\u001b[0m\u001b[0;34m)\u001b[0m\u001b[0;34m(\u001b[0m\u001b[0minputs\u001b[0m \u001b[0;34m+\u001b[0m \u001b[0mattention\u001b[0m\u001b[0;34m)\u001b[0m\u001b[0;34m\u001b[0m\u001b[0;34m\u001b[0m\u001b[0m\n",
            "\u001b[0;32m/usr/local/lib/python3.10/dist-packages/keras/utils/traceback_utils.py\u001b[0m in \u001b[0;36merror_handler\u001b[0;34m(*args, **kwargs)\u001b[0m\n\u001b[1;32m     68\u001b[0m             \u001b[0;31m# To get the full stack trace, call:\u001b[0m\u001b[0;34m\u001b[0m\u001b[0;34m\u001b[0m\u001b[0m\n\u001b[1;32m     69\u001b[0m             \u001b[0;31m# `tf.debugging.disable_traceback_filtering()`\u001b[0m\u001b[0;34m\u001b[0m\u001b[0;34m\u001b[0m\u001b[0m\n\u001b[0;32m---> 70\u001b[0;31m             \u001b[0;32mraise\u001b[0m \u001b[0me\u001b[0m\u001b[0;34m.\u001b[0m\u001b[0mwith_traceback\u001b[0m\u001b[0;34m(\u001b[0m\u001b[0mfiltered_tb\u001b[0m\u001b[0;34m)\u001b[0m \u001b[0;32mfrom\u001b[0m \u001b[0;32mNone\u001b[0m\u001b[0;34m\u001b[0m\u001b[0;34m\u001b[0m\u001b[0m\n\u001b[0m\u001b[1;32m     71\u001b[0m         \u001b[0;32mfinally\u001b[0m\u001b[0;34m:\u001b[0m\u001b[0;34m\u001b[0m\u001b[0;34m\u001b[0m\u001b[0m\n\u001b[1;32m     72\u001b[0m             \u001b[0;32mdel\u001b[0m \u001b[0mfiltered_tb\u001b[0m\u001b[0;34m\u001b[0m\u001b[0;34m\u001b[0m\u001b[0m\n",
            "\u001b[0;32m/usr/local/lib/python3.10/dist-packages/tensorflow/python/framework/ops.py\u001b[0m in \u001b[0;36mshape\u001b[0;34m(self)\u001b[0m\n\u001b[1;32m   1262\u001b[0m         \u001b[0;31m# `_tensor_shape` is declared and defined in the definition of\u001b[0m\u001b[0;34m\u001b[0m\u001b[0;34m\u001b[0m\u001b[0m\n\u001b[1;32m   1263\u001b[0m         \u001b[0;31m# `EagerTensor`, in C.\u001b[0m\u001b[0;34m\u001b[0m\u001b[0;34m\u001b[0m\u001b[0m\n\u001b[0;32m-> 1264\u001b[0;31m         \u001b[0mself\u001b[0m\u001b[0;34m.\u001b[0m\u001b[0m_tensor_shape\u001b[0m \u001b[0;34m=\u001b[0m \u001b[0mtensor_shape\u001b[0m\u001b[0;34m.\u001b[0m\u001b[0mTensorShape\u001b[0m\u001b[0;34m(\u001b[0m\u001b[0mself\u001b[0m\u001b[0;34m.\u001b[0m\u001b[0m_shape_tuple\u001b[0m\u001b[0;34m(\u001b[0m\u001b[0;34m)\u001b[0m\u001b[0;34m)\u001b[0m\u001b[0;34m\u001b[0m\u001b[0;34m\u001b[0m\u001b[0m\n\u001b[0m\u001b[1;32m   1265\u001b[0m       \u001b[0;32mexcept\u001b[0m \u001b[0mcore\u001b[0m\u001b[0;34m.\u001b[0m\u001b[0m_NotOkStatusException\u001b[0m \u001b[0;32mas\u001b[0m \u001b[0me\u001b[0m\u001b[0;34m:\u001b[0m\u001b[0;34m\u001b[0m\u001b[0;34m\u001b[0m\u001b[0m\n\u001b[1;32m   1266\u001b[0m         \u001b[0;32mraise\u001b[0m \u001b[0mcore\u001b[0m\u001b[0;34m.\u001b[0m\u001b[0m_status_to_exception\u001b[0m\u001b[0;34m(\u001b[0m\u001b[0me\u001b[0m\u001b[0;34m)\u001b[0m \u001b[0;32mfrom\u001b[0m \u001b[0;32mNone\u001b[0m\u001b[0;34m\u001b[0m\u001b[0;34m\u001b[0m\u001b[0m\n",
            "\u001b[0;31mResourceExhaustedError\u001b[0m: Exception encountered when calling layer \"multi_head_attention_92\" (type MultiHeadAttention).\n\nFailed to allocate request for 8.00MiB (8388608B) on device ordinal 0\n\nCall arguments received by layer \"multi_head_attention_92\" (type MultiHeadAttention):\n  • query=tf.Tensor(shape=(None, None, 512), dtype=float32)\n  • value=tf.Tensor(shape=(None, None, 512), dtype=float32)\n  • key=None\n  • attention_mask=None\n  • return_attention_scores=False\n  • training=None\n  • use_causal_mask=False"
          ]
        }
      ]
    },
    {
      "cell_type": "code",
      "source": [
        "from tensorflow.keras.utils import plot_model\n",
        "from IPython.display import Image\n",
        "\n",
        "# Assuming 'model' is your defined Transformer model\n",
        "plot_model(model, to_file='model_plot.png', show_shapes=True, show_layer_names=True)\n",
        "\n",
        "# Display the image\n",
        "Image('model_plot.png')"
      ],
      "metadata": {
        "id": "8b_oFUL_aKR8"
      },
      "execution_count": null,
      "outputs": []
    },
    {
      "cell_type": "markdown",
      "source": [
        "# Fitting Model"
      ],
      "metadata": {
        "id": "wXUFQ_Afy1I_"
      }
    },
    {
      "cell_type": "code",
      "source": [
        "checkpoint_path = \"gs://trendformer/Datasets/percent_change_cp.ckpt\"\n",
        "checkpoint_callback = ModelCheckpoint(filepath=checkpoint_path,\n",
        "                                      save_weights_only=True,\n",
        "                                      verbose=1)"
      ],
      "metadata": {
        "id": "T7scckm7YN4-"
      },
      "execution_count": null,
      "outputs": []
    },
    {
      "cell_type": "code",
      "source": [
        "model.load_weights(checkpoint_path)"
      ],
      "metadata": {
        "id": "1Ng-xeJRYiWG"
      },
      "execution_count": null,
      "outputs": []
    },
    {
      "cell_type": "code",
      "source": [
        "# Define early stopping callback\n",
        "early_stopping_callback = EarlyStopping(monitor='val_loss',  # Metric to monitor\n",
        "                                        patience=2,         # Number of epochs with no improvement\n",
        "                                        restore_best_weights=True)  # Restore model weights from the epoch with the best value of the monitored quantity\n"
      ],
      "metadata": {
        "id": "K8Ttg71j2VZd"
      },
      "execution_count": null,
      "outputs": []
    },
    {
      "cell_type": "code",
      "source": [
        "epochs = 15\n",
        "\n",
        "history = model.fit(\n",
        "    train_dataset,\n",
        "    epochs=epochs,\n",
        "    validation_data=val_dataset,\n",
        "    verbose=1\n",
        ")"
      ],
      "metadata": {
        "colab": {
          "base_uri": "https://localhost:8080/",
          "height": 824
        },
        "id": "nN39gSTWmJcv",
        "outputId": "4aebd211-4c62-409c-8128-aadacd372597"
      },
      "execution_count": 192,
      "outputs": [
        {
          "output_type": "stream",
          "name": "stdout",
          "text": [
            "Epoch 1/15\n"
          ]
        },
        {
          "output_type": "error",
          "ename": "ResourceExhaustedError",
          "evalue": "ignored",
          "traceback": [
            "\u001b[0;31m---------------------------------------------------------------------------\u001b[0m",
            "\u001b[0;31mResourceExhaustedError\u001b[0m                    Traceback (most recent call last)",
            "\u001b[0;32m<ipython-input-192-929fd407e792>\u001b[0m in \u001b[0;36m<cell line: 3>\u001b[0;34m()\u001b[0m\n\u001b[1;32m      1\u001b[0m \u001b[0mepochs\u001b[0m \u001b[0;34m=\u001b[0m \u001b[0;36m15\u001b[0m\u001b[0;34m\u001b[0m\u001b[0;34m\u001b[0m\u001b[0m\n\u001b[1;32m      2\u001b[0m \u001b[0;34m\u001b[0m\u001b[0m\n\u001b[0;32m----> 3\u001b[0;31m history = model.fit(\n\u001b[0m\u001b[1;32m      4\u001b[0m     \u001b[0mtrain_dataset\u001b[0m\u001b[0;34m,\u001b[0m\u001b[0;34m\u001b[0m\u001b[0;34m\u001b[0m\u001b[0m\n\u001b[1;32m      5\u001b[0m     \u001b[0mepochs\u001b[0m\u001b[0;34m=\u001b[0m\u001b[0mepochs\u001b[0m\u001b[0;34m,\u001b[0m\u001b[0;34m\u001b[0m\u001b[0;34m\u001b[0m\u001b[0m\n",
            "\u001b[0;32m/usr/local/lib/python3.10/dist-packages/keras/utils/traceback_utils.py\u001b[0m in \u001b[0;36merror_handler\u001b[0;34m(*args, **kwargs)\u001b[0m\n\u001b[1;32m     68\u001b[0m             \u001b[0;31m# To get the full stack trace, call:\u001b[0m\u001b[0;34m\u001b[0m\u001b[0;34m\u001b[0m\u001b[0m\n\u001b[1;32m     69\u001b[0m             \u001b[0;31m# `tf.debugging.disable_traceback_filtering()`\u001b[0m\u001b[0;34m\u001b[0m\u001b[0;34m\u001b[0m\u001b[0m\n\u001b[0;32m---> 70\u001b[0;31m             \u001b[0;32mraise\u001b[0m \u001b[0me\u001b[0m\u001b[0;34m.\u001b[0m\u001b[0mwith_traceback\u001b[0m\u001b[0;34m(\u001b[0m\u001b[0mfiltered_tb\u001b[0m\u001b[0;34m)\u001b[0m \u001b[0;32mfrom\u001b[0m \u001b[0;32mNone\u001b[0m\u001b[0;34m\u001b[0m\u001b[0;34m\u001b[0m\u001b[0m\n\u001b[0m\u001b[1;32m     71\u001b[0m         \u001b[0;32mfinally\u001b[0m\u001b[0;34m:\u001b[0m\u001b[0;34m\u001b[0m\u001b[0;34m\u001b[0m\u001b[0m\n\u001b[1;32m     72\u001b[0m             \u001b[0;32mdel\u001b[0m \u001b[0mfiltered_tb\u001b[0m\u001b[0;34m\u001b[0m\u001b[0;34m\u001b[0m\u001b[0m\n",
            "\u001b[0;32m/usr/local/lib/python3.10/dist-packages/tensorflow/python/framework/func_graph.py\u001b[0m in \u001b[0;36mautograph_handler\u001b[0;34m(*args, **kwargs)\u001b[0m\n\u001b[1;32m   1198\u001b[0m           \u001b[0;32mexcept\u001b[0m \u001b[0mException\u001b[0m \u001b[0;32mas\u001b[0m \u001b[0me\u001b[0m\u001b[0;34m:\u001b[0m  \u001b[0;31m# pylint:disable=broad-except\u001b[0m\u001b[0;34m\u001b[0m\u001b[0;34m\u001b[0m\u001b[0m\n\u001b[1;32m   1199\u001b[0m             \u001b[0;32mif\u001b[0m \u001b[0mhasattr\u001b[0m\u001b[0;34m(\u001b[0m\u001b[0me\u001b[0m\u001b[0;34m,\u001b[0m \u001b[0;34m\"ag_error_metadata\"\u001b[0m\u001b[0;34m)\u001b[0m\u001b[0;34m:\u001b[0m\u001b[0;34m\u001b[0m\u001b[0;34m\u001b[0m\u001b[0m\n\u001b[0;32m-> 1200\u001b[0;31m               \u001b[0;32mraise\u001b[0m \u001b[0me\u001b[0m\u001b[0;34m.\u001b[0m\u001b[0mag_error_metadata\u001b[0m\u001b[0;34m.\u001b[0m\u001b[0mto_exception\u001b[0m\u001b[0;34m(\u001b[0m\u001b[0me\u001b[0m\u001b[0;34m)\u001b[0m\u001b[0;34m\u001b[0m\u001b[0;34m\u001b[0m\u001b[0m\n\u001b[0m\u001b[1;32m   1201\u001b[0m             \u001b[0;32melse\u001b[0m\u001b[0;34m:\u001b[0m\u001b[0;34m\u001b[0m\u001b[0;34m\u001b[0m\u001b[0m\n\u001b[1;32m   1202\u001b[0m               \u001b[0;32mraise\u001b[0m\u001b[0;34m\u001b[0m\u001b[0;34m\u001b[0m\u001b[0m\n",
            "\u001b[0;31mResourceExhaustedError\u001b[0m: in user code:\n\n    File \"/usr/local/lib/python3.10/dist-packages/keras/engine/training.py\", line 1284, in train_function  *\n        return step_function(self, iterator)\n    File \"/usr/local/lib/python3.10/dist-packages/keras/engine/training.py\", line 1268, in step_function  **\n        outputs = model.distribute_strategy.run(run_step, args=(data,))\n    File \"/usr/local/lib/python3.10/dist-packages/keras/engine/training.py\", line 1249, in run_step\n        outputs = model.train_step(data)\n    File \"/usr/local/lib/python3.10/dist-packages/keras/engine/training.py\", line 1054, in train_step\n        self.optimizer.minimize(loss, self.trainable_variables, tape=tape)\n    File \"/usr/local/lib/python3.10/dist-packages/keras/optimizers/optimizer.py\", line 543, in minimize\n        self.apply_gradients(grads_and_vars)\n    File \"/usr/local/lib/python3.10/dist-packages/keras/optimizers/optimizer.py\", line 1174, in apply_gradients\n        return super().apply_gradients(grads_and_vars, name=name)\n    File \"/usr/local/lib/python3.10/dist-packages/keras/optimizers/optimizer.py\", line 637, in apply_gradients\n        self.build(trainable_variables)\n    File \"/usr/local/lib/python3.10/dist-packages/keras/optimizers/adam.py\", line 139, in build\n        self.add_variable_from_reference(\n    File \"/usr/local/lib/python3.10/dist-packages/keras/optimizers/optimizer.py\", line 1106, in add_variable_from_reference\n        return super().add_variable_from_reference(\n    File \"/usr/local/lib/python3.10/dist-packages/keras/optimizers/optimizer.py\", line 512, in add_variable_from_reference\n        variable = tf.Variable(\n\n    ResourceExhaustedError: Failed to allocate request for 32.00MiB (33554432B) on device ordinal 0\n    \tEncountered when executing an operation using EagerExecutor. This error cancels all future operations and poisons their output tensors. [Op:AssignVariableOp]\n"
          ]
        }
      ]
    },
    {
      "cell_type": "markdown",
      "source": [
        "# Analysis"
      ],
      "metadata": {
        "id": "3wib3skry5qo"
      }
    },
    {
      "cell_type": "code",
      "source": [
        "# Assuming 'history' is the result from the model.fit\n",
        "# Extracting the data from the history object\n",
        "loss = history.history['loss']\n",
        "val_loss = history.history['val_loss']\n",
        "da = history.history['directional_accuracy']\n",
        "val_da = history.history['val_directional_accuracy']\n",
        "mse = history.history['MSE']\n",
        "val_mse = history.history['val_MSE']\n",
        "\n",
        "epochs_range = range(1, len(loss) + 1)\n",
        "\n",
        "# Plotting training and validation loss\n",
        "plt.subplot=(2, 2, 2)\n",
        "plt.plot(epochs_range, loss, label='Training Loss')\n",
        "plt.plot(epochs_range, val_loss, label='Validation Loss')\n",
        "plt.title('Training and Validation Loss')\n",
        "plt.legend(loc='upper right')\n",
        "\n",
        "# Creating a new figure for AUC\n",
        "plt.figure(figsize=(7, 5))\n",
        "plt.plot(epochs_range, da, label='Training directional accuracy')\n",
        "plt.plot(epochs_range, val_da, label='Validation directional accuracy')\n",
        "plt.title('Training and Validation directional accuracy')\n",
        "plt.legend(loc='lower right')\n",
        "\n",
        "plt.figure(figsize=(7, 5))\n",
        "plt.plot(epochs_range, mse, label='Training MSE')\n",
        "plt.plot(epochs_range, val_mse, label='Validation MSE')\n",
        "plt.title('Training and Validation MSE')\n",
        "plt.legend(loc='lower right')\n",
        "\n",
        "plt.show()"
      ],
      "metadata": {
        "colab": {
          "base_uri": "https://localhost:8080/",
          "height": 1000
        },
        "id": "UoR1C_A3yQCA",
        "outputId": "0401a907-8785-4a76-cca6-2fa35d471cf8"
      },
      "execution_count": 180,
      "outputs": [
        {
          "output_type": "stream",
          "name": "stderr",
          "text": [
            "Exception ignored in: <function Executor.__del__ at 0x7f239c13d2d0>\n",
            "Traceback (most recent call last):\n",
            "  File \"/usr/local/lib/python3.10/dist-packages/tensorflow/python/eager/executor.py\", line 46, in __del__\n",
            "    self.wait()\n",
            "  File \"/usr/local/lib/python3.10/dist-packages/tensorflow/python/eager/executor.py\", line 65, in wait\n",
            "    pywrap_tfe.TFE_ExecutorWaitForAllPendingNodes(self._handle)\n",
            "tensorflow.python.framework.errors_impl.InvalidArgumentError: indices[8] = 8 is not in [0, 8)\n",
            "\t [[{{node boolean_mask/GatherV2}}]]\n",
            "Exception ignored in: <function Executor.__del__ at 0x7f239c13d2d0>\n",
            "Traceback (most recent call last):\n",
            "  File \"/usr/local/lib/python3.10/dist-packages/tensorflow/python/eager/executor.py\", line 46, in __del__\n",
            "    self.wait()\n",
            "  File \"/usr/local/lib/python3.10/dist-packages/tensorflow/python/eager/executor.py\", line 65, in wait\n",
            "    pywrap_tfe.TFE_ExecutorWaitForAllPendingNodes(self._handle)\n",
            "tensorflow.python.framework.errors_impl.InvalidArgumentError: indices[8] = 8 is not in [0, 8)\n",
            "\t [[{{node boolean_mask/GatherV2}}]]\n",
            "Exception ignored in: <function Executor.__del__ at 0x7f239c13d2d0>\n",
            "Traceback (most recent call last):\n",
            "  File \"/usr/local/lib/python3.10/dist-packages/tensorflow/python/eager/executor.py\", line 46, in __del__\n",
            "    self.wait()\n",
            "  File \"/usr/local/lib/python3.10/dist-packages/tensorflow/python/eager/executor.py\", line 65, in wait\n",
            "    pywrap_tfe.TFE_ExecutorWaitForAllPendingNodes(self._handle)\n",
            "tensorflow.python.framework.errors_impl.InvalidArgumentError: indices[8] = 8 is not in [0, 8)\n",
            "\t [[{{node boolean_mask/GatherV2}}]]\n",
            "Exception ignored in: <function Executor.__del__ at 0x7f239c13d2d0>\n",
            "Traceback (most recent call last):\n",
            "  File \"/usr/local/lib/python3.10/dist-packages/tensorflow/python/eager/executor.py\", line 46, in __del__\n",
            "    self.wait()\n",
            "  File \"/usr/local/lib/python3.10/dist-packages/tensorflow/python/eager/executor.py\", line 65, in wait\n",
            "    pywrap_tfe.TFE_ExecutorWaitForAllPendingNodes(self._handle)\n",
            "tensorflow.python.framework.errors_impl.InvalidArgumentError: indices[10] = 10 is not in [0, 10)\n",
            "\t [[{{node GatherV2}}]]\n",
            "Exception ignored in: <function Executor.__del__ at 0x7f239c13d2d0>\n",
            "Traceback (most recent call last):\n",
            "  File \"/usr/local/lib/python3.10/dist-packages/tensorflow/python/eager/executor.py\", line 46, in __del__\n",
            "    self.wait()\n",
            "  File \"/usr/local/lib/python3.10/dist-packages/tensorflow/python/eager/executor.py\", line 65, in wait\n",
            "    pywrap_tfe.TFE_ExecutorWaitForAllPendingNodes(self._handle)\n",
            "tensorflow.python.framework.errors_impl.InvalidArgumentError: indices[10] = 10 is not in [0, 10)\n",
            "\t [[{{node GatherV2}}]]\n"
          ]
        },
        {
          "output_type": "display_data",
          "data": {
            "text/plain": [
              "<Figure size 640x480 with 1 Axes>"
            ],
            "image/png": "[encoded data removed]"
          },
          "metadata": {}
        },
        {
          "output_type": "display_data",
          "data": {
            "text/plain": [
              "<Figure size 700x500 with 1 Axes>"
            ],
            "image/png": "[encoded data removed]"
          },
          "metadata": {}
        },
        {
          "output_type": "display_data",
          "data": {
            "text/plain": [
              "<Figure size 700x500 with 1 Axes>"
            ],
            "image/png": "[encoded data removed]"
          },
          "metadata": {}
        }
      ]
    },
    {
      "cell_type": "code",
      "source": [],
      "metadata": {
        "id": "O3kj4lLKyQaU"
      },
      "execution_count": null,
      "outputs": []
    }
  ]
}